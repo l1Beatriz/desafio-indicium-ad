{
 "cells": [
  {
   "cell_type": "code",
   "execution_count": 90,
   "metadata": {},
   "outputs": [
    {
     "name": "stdout",
     "output_type": "stream",
     "text": [
      "Requirement already satisfied: openpyxl in c:\\users\\beatriz santos\\appdata\\local\\programs\\python\\python313\\lib\\site-packages (3.1.5)Note: you may need to restart the kernel to use updated packages.\n",
      "\n",
      "Requirement already satisfied: et-xmlfile in c:\\users\\beatriz santos\\appdata\\local\\programs\\python\\python313\\lib\\site-packages (from openpyxl) (2.0.0)\n"
     ]
    },
    {
     "name": "stderr",
     "output_type": "stream",
     "text": [
      "\n",
      "[notice] A new release of pip is available: 24.2 -> 25.0\n",
      "[notice] To update, run: python.exe -m pip install --upgrade pip\n"
     ]
    },
    {
     "name": "stdout",
     "output_type": "stream",
     "text": [
      "Requirement already satisfied: matplotlib in c:\\users\\beatriz santos\\appdata\\local\\programs\\python\\python313\\lib\\site-packages (3.10.0)\n",
      "Requirement already satisfied: contourpy>=1.0.1 in c:\\users\\beatriz santos\\appdata\\local\\programs\\python\\python313\\lib\\site-packages (from matplotlib) (1.3.1)\n",
      "Requirement already satisfied: cycler>=0.10 in c:\\users\\beatriz santos\\appdata\\local\\programs\\python\\python313\\lib\\site-packages (from matplotlib) (0.12.1)\n",
      "Requirement already satisfied: fonttools>=4.22.0 in c:\\users\\beatriz santos\\appdata\\local\\programs\\python\\python313\\lib\\site-packages (from matplotlib) (4.55.8)\n",
      "Requirement already satisfied: kiwisolver>=1.3.1 in c:\\users\\beatriz santos\\appdata\\local\\programs\\python\\python313\\lib\\site-packages (from matplotlib) (1.4.8)\n",
      "Requirement already satisfied: numpy>=1.23 in c:\\users\\beatriz santos\\appdata\\local\\programs\\python\\python313\\lib\\site-packages (from matplotlib) (2.1.3)\n",
      "Requirement already satisfied: packaging>=20.0 in c:\\users\\beatriz santos\\appdata\\roaming\\python\\python313\\site-packages (from matplotlib) (24.2)\n",
      "Requirement already satisfied: pillow>=8 in c:\\users\\beatriz santos\\appdata\\local\\programs\\python\\python313\\lib\\site-packages (from matplotlib) (11.1.0)\n",
      "Requirement already satisfied: pyparsing>=2.3.1 in c:\\users\\beatriz santos\\appdata\\local\\programs\\python\\python313\\lib\\site-packages (from matplotlib) (3.2.1)\n",
      "Requirement already satisfied: python-dateutil>=2.7 in c:\\users\\beatriz santos\\appdata\\local\\programs\\python\\python313\\lib\\site-packages (from matplotlib) (2.9.0.post0)\n",
      "Requirement already satisfied: six>=1.5 in c:\\users\\beatriz santos\\appdata\\local\\programs\\python\\python313\\lib\\site-packages (from python-dateutil>=2.7->matplotlib) (1.16.0)\n",
      "Note: you may need to restart the kernel to use updated packages.\n"
     ]
    },
    {
     "name": "stderr",
     "output_type": "stream",
     "text": [
      "\n",
      "[notice] A new release of pip is available: 24.2 -> 25.0\n",
      "[notice] To update, run: python.exe -m pip install --upgrade pip\n"
     ]
    }
   ],
   "source": [
    "%pip install openpyxl\n",
    "%pip install matplotlib"
   ]
  },
  {
   "cell_type": "code",
   "execution_count": 91,
   "metadata": {},
   "outputs": [],
   "source": [
    "import pandas as pd\n",
    "import os\n",
    "import shutil\n",
    "import matplotlib.pyplot as plt"
   ]
  },
  {
   "cell_type": "code",
   "execution_count": 92,
   "metadata": {},
   "outputs": [],
   "source": [
    "df_agencia = pd.read_csv(\"data/agencias.csv\")\n",
    "df_clientes = pd.read_csv(\"data/clientes.csv\")\n",
    "df_colaboradores_agencia = pd.read_csv(\"data/colaboradores.csv\")\n",
    "df_colaboradores = pd.read_csv(\"data/colaboradores.csv\")\n",
    "df_contas = pd.read_csv(\"data/contas.csv\")\n",
    "df_propostas_credito = pd.read_csv(\"data/propostas_credito.csv\")\n",
    "df_transacoes = pd.read_csv(\"data/transacoes.csv\")"
   ]
  },
  {
   "cell_type": "code",
   "execution_count": 93,
   "metadata": {},
   "outputs": [
    {
     "name": "stdout",
     "output_type": "stream",
     "text": [
      "\n",
      " Agencias\n",
      "   cod_agencia             nome  \\\n",
      "0            7  Agência Digital   \n",
      "1            1   Agência Matriz   \n",
      "\n",
      "                                            endereco     cidade  uf  \\\n",
      "0  Av. Paulista, 1436 - Cerqueira César, São Paul...  São Paulo  SP   \n",
      "1  Av. Paulista, 1436 - Cerqueira César, São Paul...  São Paulo  SP   \n",
      "\n",
      "  data_abertura tipo_agencia  \n",
      "0    2015-08-01      Digital  \n",
      "1    2010-01-01       Física   \n",
      "\n",
      "<class 'pandas.core.frame.DataFrame'>\n",
      "RangeIndex: 10 entries, 0 to 9\n",
      "Data columns (total 7 columns):\n",
      " #   Column         Non-Null Count  Dtype \n",
      "---  ------         --------------  ----- \n",
      " 0   cod_agencia    10 non-null     int64 \n",
      " 1   nome           10 non-null     object\n",
      " 2   endereco       10 non-null     object\n",
      " 3   cidade         10 non-null     object\n",
      " 4   uf             10 non-null     object\n",
      " 5   data_abertura  10 non-null     object\n",
      " 6   tipo_agencia   10 non-null     object\n",
      "dtypes: int64(1), object(6)\n",
      "memory usage: 692.0+ bytes\n",
      "None \n",
      "\n",
      "\n",
      " Clientes\n",
      "   cod_cliente primeiro_nome ultimo_nome                         email  \\\n",
      "0           28       Sabrina        Dias  moreiraemanuelly@example.org   \n",
      "1          674   Luiz Felipe        Dias     pedroferreira@example.org   \n",
      "\n",
      "  tipo_cliente            data_inclusao         cpfcnpj data_nascimento  \\\n",
      "0           PF  2017-04-03 16:11:00 UTC  357.081.496-39      2006-08-11   \n",
      "1           PF  2021-02-10 13:27:00 UTC  085.196.374-93      1995-10-11   \n",
      "\n",
      "                                            endereco        cep  \n",
      "0  Praia de Duarte Vila Piratininga 81327-166 Fer...  95140-704  \n",
      "1  Avenida da Rosa, 654 João Paulo Ii 20295449 Nu...  76516-765   \n",
      "\n",
      "<class 'pandas.core.frame.DataFrame'>\n",
      "RangeIndex: 998 entries, 0 to 997\n",
      "Data columns (total 10 columns):\n",
      " #   Column           Non-Null Count  Dtype \n",
      "---  ------           --------------  ----- \n",
      " 0   cod_cliente      998 non-null    int64 \n",
      " 1   primeiro_nome    998 non-null    object\n",
      " 2   ultimo_nome      998 non-null    object\n",
      " 3   email            998 non-null    object\n",
      " 4   tipo_cliente     998 non-null    object\n",
      " 5   data_inclusao    998 non-null    object\n",
      " 6   cpfcnpj          998 non-null    object\n",
      " 7   data_nascimento  998 non-null    object\n",
      " 8   endereco         998 non-null    object\n",
      " 9   cep              998 non-null    object\n",
      "dtypes: int64(1), object(9)\n",
      "memory usage: 78.1+ KB\n",
      "None \n",
      "\n",
      "\n",
      " Colaboradores_Agencia\n",
      "   cod_colaborador  primeiro_nome ultimo_nome                     email  \\\n",
      "0               14          Paulo        Dias  melissalopes@example.net   \n",
      "1               19  Luiz Fernando        Dias        pcunha@example.net   \n",
      "\n",
      "              cpf data_nascimento  \\\n",
      "0  847.210.695-02      1974-04-24   \n",
      "1  820.415.963-33      1994-07-10   \n",
      "\n",
      "                                            endereco       cep  \n",
      "0  Lagoa de Rodrigues, 62 Zilah Sposito 37328-273...  27275674  \n",
      "1  Ladeira de Moreira, 82 Jardim Atlântico 27617-...  50013962   \n",
      "\n",
      "<class 'pandas.core.frame.DataFrame'>\n",
      "RangeIndex: 100 entries, 0 to 99\n",
      "Data columns (total 8 columns):\n",
      " #   Column           Non-Null Count  Dtype \n",
      "---  ------           --------------  ----- \n",
      " 0   cod_colaborador  100 non-null    int64 \n",
      " 1   primeiro_nome    100 non-null    object\n",
      " 2   ultimo_nome      100 non-null    object\n",
      " 3   email            100 non-null    object\n",
      " 4   cpf              100 non-null    object\n",
      " 5   data_nascimento  100 non-null    object\n",
      " 6   endereco         100 non-null    object\n",
      " 7   cep              100 non-null    object\n",
      "dtypes: int64(1), object(7)\n",
      "memory usage: 6.4+ KB\n",
      "None \n",
      "\n",
      "\n",
      " Colaboradores\n",
      "   cod_colaborador  primeiro_nome ultimo_nome                     email  \\\n",
      "0               14          Paulo        Dias  melissalopes@example.net   \n",
      "1               19  Luiz Fernando        Dias        pcunha@example.net   \n",
      "\n",
      "              cpf data_nascimento  \\\n",
      "0  847.210.695-02      1974-04-24   \n",
      "1  820.415.963-33      1994-07-10   \n",
      "\n",
      "                                            endereco       cep  \n",
      "0  Lagoa de Rodrigues, 62 Zilah Sposito 37328-273...  27275674  \n",
      "1  Ladeira de Moreira, 82 Jardim Atlântico 27617-...  50013962   \n",
      "\n",
      "<class 'pandas.core.frame.DataFrame'>\n",
      "RangeIndex: 100 entries, 0 to 99\n",
      "Data columns (total 8 columns):\n",
      " #   Column           Non-Null Count  Dtype \n",
      "---  ------           --------------  ----- \n",
      " 0   cod_colaborador  100 non-null    int64 \n",
      " 1   primeiro_nome    100 non-null    object\n",
      " 2   ultimo_nome      100 non-null    object\n",
      " 3   email            100 non-null    object\n",
      " 4   cpf              100 non-null    object\n",
      " 5   data_nascimento  100 non-null    object\n",
      " 6   endereco         100 non-null    object\n",
      " 7   cep              100 non-null    object\n",
      "dtypes: int64(1), object(7)\n",
      "memory usage: 6.4+ KB\n",
      "None \n",
      "\n",
      "\n",
      " Contas\n",
      "   num_conta  cod_cliente  cod_agencia  cod_colaborador tipo_conta  \\\n",
      "0         53           53            1                7         PF   \n",
      "1        190          190            1                7         PF   \n",
      "\n",
      "             data_abertura  saldo_total  saldo_disponivel  \\\n",
      "0  2011-05-24 15:30:00 UTC    2984.7615           2814.67   \n",
      "1  2014-10-17 14:48:00 UTC    4262.4322           4191.86   \n",
      "\n",
      "    data_ultimo_lancamento  \n",
      "0  2019-07-02 11:03:46 UTC  \n",
      "1  2021-03-25 12:00:15 UTC   \n",
      "\n",
      "<class 'pandas.core.frame.DataFrame'>\n",
      "RangeIndex: 999 entries, 0 to 998\n",
      "Data columns (total 9 columns):\n",
      " #   Column                  Non-Null Count  Dtype  \n",
      "---  ------                  --------------  -----  \n",
      " 0   num_conta               999 non-null    int64  \n",
      " 1   cod_cliente             999 non-null    int64  \n",
      " 2   cod_agencia             999 non-null    int64  \n",
      " 3   cod_colaborador         999 non-null    int64  \n",
      " 4   tipo_conta              999 non-null    object \n",
      " 5   data_abertura           999 non-null    object \n",
      " 6   saldo_total             999 non-null    float64\n",
      " 7   saldo_disponivel        999 non-null    float64\n",
      " 8   data_ultimo_lancamento  999 non-null    object \n",
      "dtypes: float64(2), int64(4), object(3)\n",
      "memory usage: 70.4+ KB\n",
      "None \n",
      "\n",
      "\n",
      " Propostas_Credito\n",
      "   cod_proposta  cod_cliente  cod_colaborador    data_entrada_proposta  \\\n",
      "0           116          338                1  2014-05-30 18:43:12 UTC   \n",
      "1           715           45                1  2021-06-17 13:09:32 UTC   \n",
      "\n",
      "   taxa_juros_mensal  valor_proposta  valor_financiamento  valor_entrada  \\\n",
      "0             0.0194    36199.950355             50032.03   13832.079645   \n",
      "1             0.0131    12897.538285             19848.55    6951.011715   \n",
      "\n",
      "   valor_prestacao  quantidade_parcelas  carencia status_proposta  \n",
      "0      1045.219825                   58         0         Enviada  \n",
      "1       232.124685                  100         1         Enviada   \n",
      "\n",
      "<class 'pandas.core.frame.DataFrame'>\n",
      "RangeIndex: 2000 entries, 0 to 1999\n",
      "Data columns (total 12 columns):\n",
      " #   Column                 Non-Null Count  Dtype  \n",
      "---  ------                 --------------  -----  \n",
      " 0   cod_proposta           2000 non-null   int64  \n",
      " 1   cod_cliente            2000 non-null   int64  \n",
      " 2   cod_colaborador        2000 non-null   int64  \n",
      " 3   data_entrada_proposta  2000 non-null   object \n",
      " 4   taxa_juros_mensal      2000 non-null   float64\n",
      " 5   valor_proposta         2000 non-null   float64\n",
      " 6   valor_financiamento    2000 non-null   float64\n",
      " 7   valor_entrada          2000 non-null   float64\n",
      " 8   valor_prestacao        2000 non-null   float64\n",
      " 9   quantidade_parcelas    2000 non-null   int64  \n",
      " 10  carencia               2000 non-null   int64  \n",
      " 11  status_proposta        2000 non-null   object \n",
      "dtypes: float64(5), int64(5), object(2)\n",
      "memory usage: 187.6+ KB\n",
      "None \n",
      "\n",
      "\n",
      " Trasacoes\n",
      "   cod_transacao  num_conta           data_transacao nome_transacao  \\\n",
      "0           3100        256  2020-05-22 03:15:21 UTC          Saque   \n",
      "1          28405        256  2021-06-29 11:52:38 UTC          Saque   \n",
      "\n",
      "   valor_transacao  \n",
      "0           -130.0  \n",
      "1           -255.0   \n",
      "\n",
      "<class 'pandas.core.frame.DataFrame'>\n",
      "RangeIndex: 71999 entries, 0 to 71998\n",
      "Data columns (total 5 columns):\n",
      " #   Column           Non-Null Count  Dtype  \n",
      "---  ------           --------------  -----  \n",
      " 0   cod_transacao    71999 non-null  int64  \n",
      " 1   num_conta        71999 non-null  int64  \n",
      " 2   data_transacao   71999 non-null  object \n",
      " 3   nome_transacao   71999 non-null  object \n",
      " 4   valor_transacao  71999 non-null  float64\n",
      "dtypes: float64(1), int64(2), object(2)\n",
      "memory usage: 2.7+ MB\n",
      "None \n",
      "\n"
     ]
    }
   ],
   "source": [
    "# Compreensão de: tipos de dados e tamanho do dataset.\n",
    "for nome, df in {\n",
    "    \"Agencias\": df_agencia, \"Clientes\": df_clientes, \"Colaboradores_Agencia\": df_colaboradores_agencia,\n",
    "    \"Colaboradores\": df_colaboradores, \"Contas\": df_contas, \"Propostas_Credito\": df_propostas_credito,\n",
    "    \"Trasacoes\": df_transacoes\n",
    "}.items():\n",
    "    print(f\"\\n {nome}\")\n",
    "    print(df.head(2), \"\\n\")\n",
    "    print(df.info(), \"\\n\")"
   ]
  },
  {
   "cell_type": "code",
   "execution_count": 94,
   "metadata": {},
   "outputs": [
    {
     "name": "stdout",
     "output_type": "stream",
     "text": [
      "\n",
      "🔹 Valores nulos em Agencias:\n",
      " cod_agencia      0\n",
      "nome             0\n",
      "endereco         0\n",
      "cidade           0\n",
      "uf               0\n",
      "data_abertura    0\n",
      "tipo_agencia     0\n",
      "dtype: int64\n",
      "\n",
      "🔹 Valores nulos em Clientes:\n",
      " cod_cliente        0\n",
      "primeiro_nome      0\n",
      "ultimo_nome        0\n",
      "email              0\n",
      "tipo_cliente       0\n",
      "data_inclusao      0\n",
      "cpfcnpj            0\n",
      "data_nascimento    0\n",
      "endereco           0\n",
      "cep                0\n",
      "dtype: int64\n",
      "\n",
      "🔹 Valores nulos em Colaboradores_Agencia:\n",
      " cod_colaborador    0\n",
      "primeiro_nome      0\n",
      "ultimo_nome        0\n",
      "email              0\n",
      "cpf                0\n",
      "data_nascimento    0\n",
      "endereco           0\n",
      "cep                0\n",
      "dtype: int64\n",
      "\n",
      "🔹 Valores nulos em Colaboradores:\n",
      " cod_colaborador    0\n",
      "primeiro_nome      0\n",
      "ultimo_nome        0\n",
      "email              0\n",
      "cpf                0\n",
      "data_nascimento    0\n",
      "endereco           0\n",
      "cep                0\n",
      "dtype: int64\n",
      "\n",
      "🔹 Valores nulos em Contas:\n",
      " num_conta                 0\n",
      "cod_cliente               0\n",
      "cod_agencia               0\n",
      "cod_colaborador           0\n",
      "tipo_conta                0\n",
      "data_abertura             0\n",
      "saldo_total               0\n",
      "saldo_disponivel          0\n",
      "data_ultimo_lancamento    0\n",
      "dtype: int64\n",
      "\n",
      "🔹 Valores nulos em Propostas_Credito:\n",
      " cod_proposta             0\n",
      "cod_cliente              0\n",
      "cod_colaborador          0\n",
      "data_entrada_proposta    0\n",
      "taxa_juros_mensal        0\n",
      "valor_proposta           0\n",
      "valor_financiamento      0\n",
      "valor_entrada            0\n",
      "valor_prestacao          0\n",
      "quantidade_parcelas      0\n",
      "carencia                 0\n",
      "status_proposta          0\n",
      "dtype: int64\n",
      "\n",
      "🔹 Valores nulos em Trasacoes:\n",
      " cod_transacao      0\n",
      "num_conta          0\n",
      "data_transacao     0\n",
      "nome_transacao     0\n",
      "valor_transacao    0\n",
      "dtype: int64\n"
     ]
    }
   ],
   "source": [
    "# Verificando a existência de valores ausentes.\n",
    "for nome, df in {\n",
    "    \"Agencias\": df_agencia, \"Clientes\": df_clientes, \"Colaboradores_Agencia\": df_colaboradores_agencia,\n",
    "    \"Colaboradores\": df_colaboradores, \"Contas\": df_contas, \"Propostas_Credito\": df_propostas_credito,\n",
    "    \"Trasacoes\": df_transacoes\n",
    "}.items():\n",
    "    print(f\"\\n🔹 Valores nulos em {nome}:\\n\", df.isnull().sum())"
   ]
  },
  {
   "cell_type": "code",
   "execution_count": 95,
   "metadata": {},
   "outputs": [],
   "source": [
    "df_clientes.drop_duplicates(inplace=True)"
   ]
  },
  {
   "cell_type": "code",
   "execution_count": 96,
   "metadata": {},
   "outputs": [],
   "source": [
    "bases_de_dados = [\n",
    "    df_agencia, \n",
    "    df_clientes, \n",
    "    df_colaboradores_agencia, \n",
    "    df_colaboradores, \n",
    "    df_contas,\n",
    "    df_propostas_credito,\n",
    "    df_transacoes\n",
    "]"
   ]
  },
  {
   "cell_type": "code",
   "execution_count": 97,
   "metadata": {},
   "outputs": [],
   "source": [
    "nome_dos_arquivos = [\n",
    "    \"agencia.xlsx\",\n",
    "    \"clientes.xlsx\",\n",
    "    \"colaboradores_agencia.xlsx\",\n",
    "    \"colaboradores.xlsx\",\n",
    "    \"contas.xlsx\",\n",
    "    \"propostas_credito.xlsx\",\n",
    "    \"transacoes.xlsx\"\n",
    "]"
   ]
  },
  {
   "cell_type": "code",
   "execution_count": 98,
   "metadata": {},
   "outputs": [],
   "source": [
    "# salvando os arquivos em uma pasta específica\n",
    "pasta_destino = \"trated-data/\"\n",
    "\n",
    "if not os.path.exists(pasta_destino):\n",
    "    os.makedirs(pasta_destino)"
   ]
  },
  {
   "cell_type": "code",
   "execution_count": 99,
   "metadata": {},
   "outputs": [],
   "source": [
    "arquivos_salvos = []"
   ]
  },
  {
   "cell_type": "code",
   "execution_count": 100,
   "metadata": {},
   "outputs": [],
   "source": [
    "for df, nome in zip(bases_de_dados, nome_dos_arquivos):\n",
    "    df.to_excel(nome, index=False) \n",
    "    arquivos_salvos.append(nome)"
   ]
  },
  {
   "cell_type": "code",
   "execution_count": 101,
   "metadata": {},
   "outputs": [],
   "source": [
    "for arquivos in arquivos_salvos:\n",
    "    shutil.move(arquivos, os.path.join(pasta_destino, arquivos))"
   ]
  },
  {
   "cell_type": "code",
   "execution_count": 102,
   "metadata": {},
   "outputs": [],
   "source": [
    "# Cálculo de indicadores de clientes\n",
    "num_clientes = df_clientes.shape[0]\n",
    "num_contas = df_contas.shape[0]\n",
    "saldo_medio = df_contas['saldo_total'].mean()\n",
    "tipo_conta_dist = df_contas['tipo_conta'].value_counts()"
   ]
  },
  {
   "cell_type": "code",
   "execution_count": 103,
   "metadata": {},
   "outputs": [],
   "source": [
    "# Cálculo de indicadores de crédito\n",
    "total_propostas = df_propostas_credito.shape[0]\n",
    "propostas_aprovadas = df_propostas_credito[df_propostas_credito['status_proposta'] == 'Aprovada'].shape[0]\n",
    "taxa_aprovacao = (propostas_aprovadas / total_propostas) * 100"
   ]
  },
  {
   "cell_type": "code",
   "execution_count": 104,
   "metadata": {},
   "outputs": [],
   "source": [
    "# # Cálculo de indicadores de transações\n",
    "num_transacoes = df_transacoes.shape[0]\n",
    "valor_medio_transacoes = df_transacoes['valor_transacao'].mean()\n",
    "tipo_transacao_dist = df_transacoes['nome_transacao'].value_counts()"
   ]
  },
  {
   "cell_type": "code",
   "execution_count": 105,
   "metadata": {},
   "outputs": [
    {
     "name": "stdout",
     "output_type": "stream",
     "text": [
      "Número total de clientes: 998\n",
      "Número total de contas: 999\n",
      "Saldo médio das contas: 26543.41\n",
      "Taxa de aprovação de crédito: 25.70%\n",
      "Número total de transações: 71999\n",
      "Valor médio das transações: 357.03\n"
     ]
    }
   ],
   "source": [
    "print(f\"Número total de clientes: {num_clientes}\")\n",
    "print(f\"Número total de contas: {num_contas}\")\n",
    "print(f\"Saldo médio das contas: {saldo_medio:.2f}\")\n",
    "print(f\"Taxa de aprovação de crédito: {taxa_aprovacao:.2f}%\")\n",
    "print(f\"Número total de transações: {num_transacoes}\")\n",
    "print(f\"Valor médio das transações: {valor_medio_transacoes:.2f}\")"
   ]
  },
  {
   "cell_type": "code",
   "execution_count": 106,
   "metadata": {},
   "outputs": [
    {
     "data": {
      "image/png": "[encoded data removed]",
      "text/plain": [
       "<Figure size 640x480 with 1 Axes>"
      ]
     },
     "metadata": {},
     "output_type": "display_data"
    }
   ],
   "source": [
    "# Gráfico da distribuição dos tipos de conta\n",
    "tipo_conta_dist.plot(kind='bar', title=\"Distribuição dos Tipos de Conta\")\n",
    "plt.xlabel(\"Tipo de Conta\")\n",
    "plt.ylabel(\"Quantidade\")\n",
    "plt.show()"
   ]
  },
  {
   "cell_type": "code",
   "execution_count": 107,
   "metadata": {},
   "outputs": [
    {
     "data": {
      "image/png": "[encoded data removed]",
      "text/plain": [
       "<Figure size 640x480 with 1 Axes>"
      ]
     },
     "metadata": {},
     "output_type": "display_data"
    }
   ],
   "source": [
    "# Gráfico da distribuição dos tipos de transações\n",
    "tipo_transacao_dist.plot(kind='bar', title=\"Distribuição dos Tipos de Transações\")\n",
    "plt.xlabel(\"Tipo de Transação\")\n",
    "plt.ylabel(\"Quantidade\")\n",
    "plt.show()"
   ]
  }
 ],
 "metadata": {
  "kernelspec": {
   "display_name": "Python 3",
   "language": "python",
   "name": "python3"
  },
  "language_info": {
   "codemirror_mode": {
    "name": "ipython",
    "version": 3
   },
   "file_extension": ".py",
   "mimetype": "text/x-python",
   "name": "python",
   "nbconvert_exporter": "python",
   "pygments_lexer": "ipython3",
   "version": "3.13.0"
  }
 },
 "nbformat": 4,
 "nbformat_minor": 2
}
